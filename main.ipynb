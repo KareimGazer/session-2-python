{
 "cells": [
  {
   "cell_type": "markdown",
   "metadata": {},
   "source": [
    "# Lists, Loops, and errors\n",
    "\n",
    "## Lists\n",
    "lists are a way to store many values in the same variable"
   ]
  },
  {
   "cell_type": "code",
   "execution_count": null,
   "metadata": {},
   "outputs": [],
   "source": [
    "my_list = [10, 20, 30, 40, 50] # list of numbers of int type\n",
    "print(my_list)"
   ]
  },
  {
   "cell_type": "markdown",
   "metadata": {},
   "source": [
    "lists are some kind of python objects, they got methods that we can use to operate on them"
   ]
  },
  {
   "cell_type": "code",
   "execution_count": null,
   "metadata": {},
   "outputs": [],
   "source": [
    "# add the number 60 to the end of the list\n",
    "my_list.append(60)\n",
    "print(my_list)"
   ]
  },
  {
   "cell_type": "code",
   "execution_count": null,
   "metadata": {},
   "outputs": [],
   "source": [
    "# remove last element\n",
    "last_element = my_list.pop()\n",
    "print(last_element)\n",
    "print(my_list)"
   ]
  },
  {
   "cell_type": "code",
   "execution_count": null,
   "metadata": {},
   "outputs": [],
   "source": [
    "# find and remove the number 30 from the list\n",
    "my_list.remove(30)\n",
    "print(my_list)"
   ]
  },
  {
   "cell_type": "code",
   "execution_count": null,
   "metadata": {},
   "outputs": [],
   "source": [
    "print(my_list)\n",
    "my_list.insert(2, 30)\n",
    "print(my_list)"
   ]
  },
  {
   "cell_type": "markdown",
   "metadata": {},
   "source": [
    "lists have length that indicates how many elements are in the array"
   ]
  },
  {
   "cell_type": "code",
   "execution_count": null,
   "metadata": {},
   "outputs": [],
   "source": [
    "my_list_length = len(my_list)\n",
    "print(my_list_length)"
   ]
  },
  {
   "cell_type": "markdown",
   "metadata": {},
   "source": [
    "lists are indexed starting from `0` up to the `length of the list - 1`\n",
    "this means that the first element in the list in number 0 and the last element is number `len(my_list) - 1`"
   ]
  },
  {
   "cell_type": "code",
   "execution_count": null,
   "metadata": {},
   "outputs": [],
   "source": [
    "# so to select the first element\n",
    "first_element = my_list[0]\n",
    "print(first_element)"
   ]
  },
  {
   "cell_type": "code",
   "execution_count": null,
   "metadata": {},
   "outputs": [],
   "source": [
    "# to select the last element\n",
    "index_of_last_element = len(my_list) - 1\n",
    "last_element = my_list[index_of_last_element]\n",
    "print(last_element)"
   ]
  },
  {
   "cell_type": "markdown",
   "metadata": {},
   "source": [
    "there is also another way which is to count from the end of the list using negative numbers"
   ]
  },
  {
   "cell_type": "code",
   "execution_count": null,
   "metadata": {},
   "outputs": [],
   "source": [
    "# for example to get the first element in the array\n",
    "last_element = my_list[-1]\n",
    "second_to_last_element = my_list[-2] # and so on\n",
    "print(last_element, second_to_last_element)"
   ]
  },
  {
   "cell_type": "markdown",
   "metadata": {},
   "source": [
    "### range indexing\n",
    "\n",
    "we can choose a subset of our list\n",
    "this will give us a smaller list"
   ]
  },
  {
   "cell_type": "code",
   "execution_count": null,
   "metadata": {},
   "outputs": [],
   "source": [
    "smaller_list = my_list[1:4]\n",
    "print(smaller_list)"
   ]
  },
  {
   "cell_type": "code",
   "execution_count": null,
   "metadata": {},
   "outputs": [],
   "source": [
    "# we can change the values inside our list using indexing\n",
    "my_list[0] = 5\n",
    "print(my_list)"
   ]
  },
  {
   "cell_type": "code",
   "execution_count": null,
   "metadata": {},
   "outputs": [],
   "source": [
    "# we can combine (concatenate) lists using + operator\n",
    "combined_list = my_list + smaller_list\n",
    "print(combined_list)"
   ]
  },
  {
   "cell_type": "markdown",
   "metadata": {},
   "source": [
    "## Loops\n",
    "\n",
    "- we use loops to loop over the values of our list\n",
    "- we store each value of our list in a variable and run the code inside the loop\n",
    "- the variable number will take the value of each item in the list\n",
    "- for each value in the list assign it to the variable number and run the code inside the loop"
   ]
  },
  {
   "cell_type": "code",
   "execution_count": null,
   "metadata": {},
   "outputs": [],
   "source": [
    "for number in [1, 2, 3, 4]:\n",
    "    print(number)"
   ]
  },
  {
   "cell_type": "code",
   "execution_count": null,
   "metadata": {},
   "outputs": [],
   "source": [
    "# we can assign the list to a variable\n",
    "numbers = [1, 2, 3, 4]\n",
    "for number in numbers:\n",
    "    print(number * 2)"
   ]
  },
  {
   "cell_type": "code",
   "execution_count": null,
   "metadata": {},
   "outputs": [],
   "source": [
    "# we can use a for loop to help us instruct our turtle to draw a rectangle\n",
    "# instead of writing code for the four sides of rectangle\n",
    "import turtle\n",
    "amy = turtle.Turtle()\n",
    "for side in [1, 2, 3, 4]:\n",
    "    amy.forward(100)\n",
    "    amy.left(90)"
   ]
  },
  {
   "cell_type": "code",
   "execution_count": null,
   "metadata": {},
   "outputs": [],
   "source": [
    "# we can generate a list of numbers that we can loop over\n",
    "# the range is a generator that generates lists of numbers for us that we can loop over\n",
    "for number in range(1, 5): # [1, 2, 3, 4], 5 not included\n",
    "    print(number)"
   ]
  },
  {
   "cell_type": "code",
   "execution_count": null,
   "metadata": {},
   "outputs": [],
   "source": [
    "# we can use a step of two to get a list of all even numbers from 0 to 10\n",
    "for number in range(0, 11, 2): # [0, 2, 4, 6, 8, 10], 11 not included\n",
    "    print(number)"
   ]
  },
  {
   "cell_type": "markdown",
   "metadata": {},
   "source": [
    "there is a concise syntax for range to do this and generate our list which is called a list comprehension"
   ]
  },
  {
   "cell_type": "code",
   "execution_count": null,
   "metadata": {},
   "outputs": [],
   "source": [
    "numbers = [number for number in range(0, 11, 2)] # a list of all even numbers from 0 to 10\n",
    "print(numbers)"
   ]
  },
  {
   "cell_type": "code",
   "execution_count": null,
   "metadata": {},
   "outputs": [],
   "source": [
    "# we can also generate a list of all odd numbers from 0 to 10\n",
    "numbers = [number for number in range(1, 11, 2)] # a list of all odd numbers from 0 to 10\n",
    "print(numbers)"
   ]
  },
  {
   "cell_type": "markdown",
   "metadata": {},
   "source": [
    "### Matrix\n",
    "\n",
    "a matrix is a list of lists (two dimensional list)"
   ]
  },
  {
   "cell_type": "code",
   "execution_count": null,
   "metadata": {},
   "outputs": [],
   "source": [
    "lst = [1, \"hello\", True]\n",
    "matrix = [lst, [], []]\n",
    "matrix"
   ]
  },
  {
   "cell_type": "code",
   "execution_count": null,
   "metadata": {},
   "outputs": [],
   "source": [
    "matrix = [[1, 0, 0], [0, 1, 0], [0, 0, 1]]\n",
    "print(matrix)"
   ]
  },
  {
   "cell_type": "code",
   "execution_count": null,
   "metadata": {},
   "outputs": [],
   "source": [
    "for row in matrix:\n",
    "    print(row)"
   ]
  },
  {
   "cell_type": "markdown",
   "metadata": {},
   "source": [
    "### Nested for loops\n",
    "\n",
    "for loops can be treaded as commands to be injected (nested) into other for loops"
   ]
  },
  {
   "cell_type": "code",
   "execution_count": null,
   "metadata": {},
   "outputs": [],
   "source": [
    "numbers = [1, 2, 3, 4]\n",
    "\n",
    "for x in numbers:\n",
    "    for y in numbers:\n",
    "        print(x, y)"
   ]
  },
  {
   "cell_type": "markdown",
   "metadata": {},
   "source": [
    "Indentation can be tricky.\n",
    "One place that errors can sneak into your code is in the indentation of loops. If you find that some lines of code are running more times (or fewer) than you expect, take a careful look at how your loops are indented."
   ]
  },
  {
   "cell_type": "code",
   "execution_count": 1,
   "metadata": {},
   "outputs": [],
   "source": [
    "for a in [1, 2, 3]:\n",
    "    # code here will run 3 times.\n",
    "    for b in [4, 5, 6]:\n",
    "        # code in here will run 9 times\n",
    "        pass\n",
    "    # but code here will run only 3 times!"
   ]
  },
  {
   "cell_type": "code",
   "execution_count": 2,
   "metadata": {},
   "outputs": [
    {
     "name": "stdout",
     "output_type": "stream",
     "text": [
      "30\n"
     ]
    }
   ],
   "source": [
    "# what will be the total sum?\n",
    "total_sum = 0\n",
    "for x in [1, 1, 1]:\n",
    "    total_sum = total_sum + x\n",
    "\n",
    "    for y in [2, 2, 2, 2]:\n",
    "        total_sum = total_sum + y\n",
    "    \n",
    "    total_sum = total_sum + x\n",
    "\n",
    "print(total_sum)"
   ]
  },
  {
   "cell_type": "markdown",
   "metadata": {},
   "source": [
    "## Errors\n"
   ]
  },
  {
   "cell_type": "markdown",
   "metadata": {},
   "source": [
    "### Syntax Errors\n",
    "\n",
    "Syntax errors are like spelling errors. This is when you write something that doesn't make sense in the grammar of the language. In Python, if you write a `)` with no opening `(` before it, that's a syntax error. If you leave the `:` off of a for loop, that's also a syntax error.\n",
    "Syntax errors are like spelling errors. When you're learning a new language, you'll probably make a lot of them. But once you're used to the language, you'll make very few."
   ]
  },
  {
   "cell_type": "code",
   "execution_count": 3,
   "metadata": {},
   "outputs": [
    {
     "ename": "SyntaxError",
     "evalue": "unmatched ')' (32552717.py, line 1)",
     "output_type": "error",
     "traceback": [
      "\u001b[1;36m  Cell \u001b[1;32mIn[3], line 1\u001b[1;36m\u001b[0m\n\u001b[1;33m    print)(\u001b[0m\n\u001b[1;37m         ^\u001b[0m\n\u001b[1;31mSyntaxError\u001b[0m\u001b[1;31m:\u001b[0m unmatched ')'\n"
     ]
    }
   ],
   "source": [
    "print)("
   ]
  },
  {
   "cell_type": "markdown",
   "metadata": {},
   "source": [
    "### Usage Errors\n",
    "\n",
    "This is when you ask the computer to do something that doesn't make sense. For instance, `alison.forward(\"orange\")` is a usage error. It's completely grammatical, but the forward method expects a number, a distance in pixels, not a string. The turtle can't go forward by \"orange\" pixels.\n",
    "\n",
    "Python's `NameError`, `ZeroDivisionError`, and `TypeError` messages usually mean an error of this sort."
   ]
  },
  {
   "cell_type": "markdown",
   "metadata": {},
   "source": [
    "### Logic errors are like asking for the wrong thing\n",
    "\n",
    "Finally, the third kind of errors are logic errors. The program runs fine — it doesn't crash — but it doesn't do what you wanted it to do, because what you wrote isn't what you meant. These are what people mean when they say, \"The computer doesn't do what you want it to; it only does what you tell it to do.\""
   ]
  },
  {
   "cell_type": "code",
   "execution_count": null,
   "metadata": {},
   "outputs": [],
   "source": [
    "# sum all numbers from 1 to 10 - locgical error: a numer is missing\n",
    "\n",
    "total_sum = 0\n",
    "for x in [1, 2, 3, 4, 5, 6, 7, 8, 9]:\n",
    "    total_sum = total_sum + x\n",
    "print(total_sum)"
   ]
  }
 ],
 "metadata": {
  "kernelspec": {
   "display_name": "Python 3",
   "language": "python",
   "name": "python3"
  },
  "language_info": {
   "codemirror_mode": {
    "name": "ipython",
    "version": 3
   },
   "file_extension": ".py",
   "mimetype": "text/x-python",
   "name": "python",
   "nbconvert_exporter": "python",
   "pygments_lexer": "ipython3",
   "version": "3.13.0"
  }
 },
 "nbformat": 4,
 "nbformat_minor": 2
}
